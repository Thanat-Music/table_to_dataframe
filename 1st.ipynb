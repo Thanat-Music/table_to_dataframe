{
 "cells": [
  {
   "cell_type": "code",
   "execution_count": 15,
   "id": "729d509c",
   "metadata": {},
   "outputs": [],
   "source": [
    "import cv2\n",
    "import numpy as np\n",
    "import PIL\n",
    "import pytesseract"
   ]
  },
  {
   "cell_type": "code",
   "execution_count": 20,
   "id": "0c9c24b5",
   "metadata": {},
   "outputs": [],
   "source": [
    "# Import required packages\n",
    "import cv2\n",
    "import pytesseract\n",
    "\n",
    "# Mention the installed location of Tesseract-OCR in your system\n",
    "pytesseract.pytesseract.tesseract_cmd = r'C:\\Program Files\\Tesseract-OCR\\tesseract.exe'\n",
    "\n",
    "# Read image from which text needs to be extracted\n",
    "img = cv2.imread(\"table1.jpg\")\n",
    "\n",
    "# Preprocessing the image starts\n",
    " \n",
    "# Convert the image to gray scale\n",
    "gray = cv2.cvtColor(img, cv2.COLOR_BGR2GRAY)\n",
    " \n",
    "# Performing OTSU threshold\n",
    "ret, thresh1 = cv2.threshold(gray, 0, 255, cv2.THRESH_OTSU | cv2.THRESH_BINARY_INV)\n",
    " \n",
    "# Specify structure shape and kernel size.\n",
    "# Kernel size increases or decreases the area\n",
    "# of the rectangle to be detected.\n",
    "# A smaller value like (10, 10) will detect\n",
    "# each word instead of a sentence.\n",
    "rect_kernel = cv2.getStructuringElement(cv2.MORPH_RECT, (18, 18))\n",
    " \n",
    "# Applying dilation on the threshold image\n",
    "dilation = cv2.dilate(thresh1, rect_kernel, iterations = 1)\n",
    " \n",
    "# Finding contours\n",
    "contours, hierarchy = cv2.findContours(dilation, cv2.RETR_EXTERNAL,\n",
    "                                                 cv2.CHAIN_APPROX_NONE)\n",
    " \n",
    "\n"
   ]
  },
  {
   "cell_type": "code",
   "execution_count": 17,
   "id": "3d891871",
   "metadata": {},
   "outputs": [],
   "source": [
    "# Creating a copy of image\n",
    "im2 = img.copy()\n",
    "for cnt in contours:\n",
    "    x, y, w, h = cv2.boundingRect(cnt)\n",
    "\n",
    "    # Drawing a rectangle on copied image\n",
    "    rect = cv2.rectangle(im2, (x, y), (x + w, y + h), (0, 255, 0), 2)\n",
    "cv2.imshow('1',im2)\n",
    "cv2.waitKey(0)\n",
    "cv2.destroyAllWindows()"
   ]
  },
  {
   "cell_type": "code",
   "execution_count": 8,
   "id": "73632b26",
   "metadata": {},
   "outputs": [
    {
     "name": "stdout",
     "output_type": "stream",
     "text": [
      "(520, 1193, 3)\n"
     ]
    }
   ],
   "source": [
    "print(im2.shape)"
   ]
  },
  {
   "cell_type": "code",
   "execution_count": null,
   "id": "449a3dea",
   "metadata": {},
   "outputs": [],
   "source": [
    "for i in range(0,14):\n",
    "    print(i)\n",
    "    try:\n",
    "        # Creating a copy of image\n",
    "        im2 = img.copy()\n",
    "\n",
    "        # A text file is created and flushed\n",
    "        file = open(f\"output/recognized{str(i)}.txt\", \"w+\")\n",
    "        file.write(\"\")\n",
    "        file.close()\n",
    "\n",
    "        # Looping through the identified contours\n",
    "        # Then rectangular part is cropped and passed on\n",
    "        # to pytesseract for extracting text from it\n",
    "        # Extracted text is then written into the text file\n",
    "        for cnt in contours:\n",
    "            x, y, w, h = cv2.boundingRect(cnt)\n",
    "\n",
    "            # Drawing a rectangle on copied image\n",
    "            rect = cv2.rectangle(im2, (x, y), (x + w, y + h), (0, 255, 0), 2)\n",
    "\n",
    "            # Cropping the text block for giving input to OCR\n",
    "            cropped = im2[y:y + h, x:x + w]\n",
    "\n",
    "            # Open the file in append mode\n",
    "            file = open(f\"output/recognized{str(i)}.txt\", \"a\", encoding=\"utf-8\")\n",
    "\n",
    "            # Apply OCR on the cropped image\n",
    "            costom_config=r'--oem 3 --psm '+str(i)\n",
    "            text = pytesseract.image_to_string(cropped, lang='tha', config= costom_config)\n",
    "\n",
    "            # Appending the text into file\n",
    "            file.write(text)\n",
    "            file.write(\"\\n\")\n",
    "\n",
    "            # Close the file\n",
    "            file.close\n",
    "    except:\n",
    "            print('unsucessful')"
   ]
  },
  {
   "cell_type": "code",
   "execution_count": null,
   "id": "cfcdf16f",
   "metadata": {},
   "outputs": [],
   "source": [
    "window_name = 'image'\n",
    "cv2.imshow(window_name,rect)\n",
    "  \n",
    "#waits for user to press any key \n",
    "#(this is necessary to avoid Python kernel form crashing)\n",
    "cv2.waitKey(0) \n",
    "  \n",
    "#closing all open windows \n",
    "cv2.destroyAllWindows() "
   ]
  },
  {
   "cell_type": "code",
   "execution_count": 10,
   "id": "949cdf13",
   "metadata": {},
   "outputs": [
    {
     "name": "stdout",
     "output_type": "stream",
     "text": [
      "(array([[[0, 0]],\n",
      "\n",
      "       [[0, 1]],\n",
      "\n",
      "       [[0, 2]],\n",
      "\n",
      "       ...,\n",
      "\n",
      "       [[3, 0]],\n",
      "\n",
      "       [[2, 0]],\n",
      "\n",
      "       [[1, 0]]], dtype=int32),)\n"
     ]
    }
   ],
   "source": [
    "print(contours)"
   ]
  }
 ],
 "metadata": {
  "kernelspec": {
   "display_name": "Python 3 (ipykernel)",
   "language": "python",
   "name": "python3"
  },
  "language_info": {
   "codemirror_mode": {
    "name": "ipython",
    "version": 3
   },
   "file_extension": ".py",
   "mimetype": "text/x-python",
   "name": "python",
   "nbconvert_exporter": "python",
   "pygments_lexer": "ipython3",
   "version": "3.9.12"
  }
 },
 "nbformat": 4,
 "nbformat_minor": 5
}
