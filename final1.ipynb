{
  "cells": [
    {
      "cell_type": "code",
      "source": [
        "from google.colab import drive\n",
        "drive.mount('/content/drive')"
      ],
      "metadata": {
        "id": "4h_EjtRk0zfY",
        "outputId": "ed3f6eb0-1b71-4c38-c80d-4531ed326aef",
        "colab": {
          "base_uri": "https://localhost:8080/"
        }
      },
      "id": "4h_EjtRk0zfY",
      "execution_count": 3,
      "outputs": [
        {
          "output_type": "stream",
          "name": "stdout",
          "text": [
            "Mounted at /content/drive\n"
          ]
        }
      ]
    },
    {
      "cell_type": "code",
      "source": [
        "!sudo apt install tesseract-ocr-tha\n",
        "!pip install pytesseract"
      ],
      "metadata": {
        "id": "PGnT2wTBxh8I",
        "outputId": "0948a9fd-81a9-4c09-8052-04ea0d7baac9",
        "colab": {
          "base_uri": "https://localhost:8080/"
        }
      },
      "id": "PGnT2wTBxh8I",
      "execution_count": 1,
      "outputs": [
        {
          "output_type": "stream",
          "name": "stdout",
          "text": [
            "Reading package lists... Done\n",
            "Building dependency tree       \n",
            "Reading state information... Done\n",
            "tesseract-ocr-tha is already the newest version (4.00~git24-0e00fe6-1.2).\n",
            "The following packages were automatically installed and are no longer required:\n",
            "  libnvidia-common-460 nsight-compute-2020.2.0\n",
            "Use 'sudo apt autoremove' to remove them.\n",
            "0 upgraded, 0 newly installed, 0 to remove and 42 not upgraded.\n",
            "Requirement already satisfied: pytesseract in /usr/local/lib/python3.7/dist-packages (0.3.9)\n",
            "Requirement already satisfied: packaging>=21.3 in /usr/local/lib/python3.7/dist-packages (from pytesseract) (21.3)\n",
            "Requirement already satisfied: Pillow>=8.0.0 in /usr/local/lib/python3.7/dist-packages (from pytesseract) (9.1.0)\n",
            "Requirement already satisfied: pyparsing!=3.0.5,>=2.0.2 in /usr/local/lib/python3.7/dist-packages (from packaging>=21.3->pytesseract) (3.0.8)\n"
          ]
        }
      ]
    },
    {
      "cell_type": "code",
      "execution_count": 2,
      "id": "a72b3045",
      "metadata": {
        "id": "a72b3045"
      },
      "outputs": [],
      "source": [
        "import cv2\n",
        "import numpy as np\n",
        "import pytesseract\n",
        "from PIL import ImageFont, ImageDraw,Image\n",
        "from google.colab.patches import cv2_imshow"
      ]
    },
    {
      "cell_type": "code",
      "execution_count": 3,
      "id": "84b4f02e",
      "metadata": {
        "scrolled": true,
        "id": "84b4f02e",
        "outputId": "36f2ac8a-5ae0-4f8f-fc92-11c719e12efe",
        "colab": {
          "base_uri": "https://localhost:8080/"
        }
      },
      "outputs": [
        {
          "output_type": "stream",
          "name": "stdout",
          "text": [
            "number of contours in condition is : 50\n"
          ]
        },
        {
          "output_type": "stream",
          "name": "stderr",
          "text": [
            "/usr/local/lib/python3.7/dist-packages/numpy/lib/function_base.py:232: VisibleDeprecationWarning: Creating an ndarray from ragged nested sequences (which is a list-or-tuple of lists-or-tuples-or ndarrays with different lengths or shapes) is deprecated. If you meant to do this, you must specify 'dtype=object' when creating the ndarray.\n",
            "  m = asarray(m)\n",
            "/usr/local/lib/python3.7/dist-packages/ipykernel_launcher.py:73: VisibleDeprecationWarning: Creating an ndarray from ragged nested sequences (which is a list-or-tuple of lists-or-tuples-or ndarrays with different lengths or shapes) is deprecated. If you meant to do this, you must specify 'dtype=object' when creating the ndarray.\n"
          ]
        }
      ],
      "source": [
        "def box_cut(values):\n",
        "    row_img=[]\n",
        "    dtype = [('x', int), ('y', int), ('w', int), ('h', int)]\n",
        "    box_array = np.array(values, dtype = dtype)\n",
        "    sort_box_array = np.sort(box_array, order = 'x')\n",
        "    for position in sort_box_array:\n",
        "        x, y, w, h = position\n",
        "        cv2.rectangle(img, (x, y), (x+w, y+h), (0, 0, 255), 2)\n",
        "        \n",
        "        #cv2_imshow(img)\n",
        "        bg_img = np.zeros((img.shape[0], img.shape[1]))\n",
        "        bg_img[y:y+h, x:x+w] = 1\n",
        "        img_cut = img_copy[y:y+h, x:x+w,:]\n",
        "\n",
        "        #cv2_imshow(img_cut)\n",
        "        row_img.append(img_cut)\n",
        "        #cv2.waitKey(1000)\n",
        "\n",
        "    return row_img\n",
        "\n",
        "pos_con = []\n",
        "bitw_img = []\n",
        "\n",
        "keep_day=[[],[],[],[],[]]\n",
        "\n",
        "keep_box=[[],[],[],[],[]]\n",
        "\n",
        "\n",
        "#read an image\n",
        "img = cv2.imread(\"/content/drive/MyDrive/image_project/table1.jpg\")\n",
        "\n",
        "#resize image(optional)\n",
        "\"\"\"scale_percent = 100\n",
        "width = int(img.shape[1] * scale_percent / 100)\n",
        "hight = int(img.shape[0] * scale_percent / 100)\n",
        "dim = (width, hight)\n",
        "img = cv2.resize(img, dim, interpolation = cv2.INTER_AREA)\"\"\"\n",
        "\n",
        "img_copy = img.copy()\n",
        "gray_img = cv2.cvtColor(img, cv2.COLOR_BGR2GRAY)\n",
        "threshold_img = cv2.adaptiveThreshold(gray_img, 255,\n",
        "                                      cv2.ADAPTIVE_THRESH_MEAN_C, cv2.THRESH_BINARY_INV,29,0)\n",
        "dilation = cv2.dilate(threshold_img, (2, 2), 10)\n",
        "contours, hierarchy = cv2.findContours(dilation, cv2.RETR_LIST, cv2.CHAIN_APPROX_NONE)\n",
        "contours = np.flip(contours, 0)\n",
        "count = 0\n",
        "\n",
        "if (len(contours) > 0):\n",
        "    for i, con in enumerate(contours):\n",
        "        areas_con = cv2.contourArea(con)\n",
        "        x, y, w, h = cv2.boundingRect(con)\n",
        "        if (areas_con < 19000 and areas_con > 4000):\n",
        "                #print(\"index : {0} ==> area_con = {1}\".format(i, areas_con))\n",
        "                if (y>68) and (y<156):\n",
        "                    keep_day[0].append(x)\n",
        "                    keep_box[0].append((x, y, w, h))\n",
        "                elif (y>156) and (y<244):\n",
        "                    keep_day[1].append(x)\n",
        "                    keep_box[1].append((x, y, w, h))\n",
        "                elif (y>244) and (y<332):\n",
        "                    keep_day[2].append(x)\n",
        "                    keep_box[2].append((x, y, w, h))\n",
        "                elif (y>332) and (y<420):\n",
        "                    keep_day[3].append(x)\n",
        "                    keep_box[3].append((x, y, w, h))\n",
        "                elif (y>420) and (y<508):\n",
        "                    keep_day[4].append(x)\n",
        "                    keep_box[4].append((x, y, w, h))\n",
        "                count += 1\n",
        "\n",
        "    for row_day in keep_box:\n",
        "          pos_con.append(box_cut(row_day))\n",
        "    img_append = np.array(pos_con)\n",
        "\n",
        "print(\"number of contours in condition is : {}\".format(count))\n",
        "cv2.waitKey(0)\n",
        "cv2.destroyAllWindows()\n"
      ]
    },
    {
      "cell_type": "code",
      "source": [
        "def extract(image):\n",
        "    #closing\n",
        "    kernel = np.ones((2,2),np.uint8)\n",
        "    closing = cv2.morphologyEx(image, cv2.MORPH_CLOSE, kernel)\n",
        "    # Apply OCR on the image\n",
        "    costom_config=r'--oem 3 --psm 6'\n",
        "    text = pytesseract.image_to_string(closing, lang='tha', config= costom_config)\n",
        "    return str(text)"
      ],
      "metadata": {
        "id": "3c5t_RT3jdGp"
      },
      "id": "3c5t_RT3jdGp",
      "execution_count": 43,
      "outputs": []
    },
    {
      "cell_type": "code",
      "source": [
        "def filter_str(str1, f_list):\n",
        "    for i in f_list:\n",
        "        str1 = str1.replace(i,'')\n",
        "    str1 = str1.replace(\"ส/17\",'4/17').replace(\"6/17\",'4/17').replace('4/17',' 4/17').replace('๓','พุธ')\n",
        "    while \"  \" in str1:\n",
        "        str1 = str1.replace(\"  \",' ')\n",
        "    ################################\n",
        "    str_list = str1.split()\n",
        "    for cha in str_list:\n",
        "        if len(cha)<3:\n",
        "            str_list.remove(cha)\n",
        "    str1 = \" \".join(str_list)\n",
        "    return str1"
      ],
      "metadata": {
        "id": "Ta2FHMc5kblg"
      },
      "id": "Ta2FHMc5kblg",
      "execution_count": 89,
      "outputs": []
    },
    {
      "cell_type": "code",
      "source": [
        "pytesseract.pytesseract.tesseract_cmd = ( r'/usr/bin/tesseract' )\n",
        "\n",
        "table=[]\n",
        "for j,row in enumerate(img_append):\n",
        "    row_= ['','','','','','','','','','','','']\n",
        "    i = 0\n",
        "    for img in row:\n",
        "        text=filter_str(extract(img).replace('\\n',' '),['|','-','.',',',':','(',')','๒'])\n",
        "        row_[i]=text\n",
        "        i += 1\n",
        "        if img.shape[1]>110: \n",
        "            row_[i]=text\n",
        "            i += 1\n",
        "    table.append(row_)"
      ],
      "metadata": {
        "id": "J--rLdG9dK_5"
      },
      "id": "J--rLdG9dK_5",
      "execution_count": 90,
      "outputs": []
    },
    {
      "cell_type": "code",
      "source": [
        "output={}\n",
        "for row in table:\n",
        "    day={}\n",
        "    for i,ele in enumerate(row):\n",
        "        if i != 0:\n",
        "            ele=ele.split()\n",
        "            if len(ele)>=2:\n",
        "                priod={\"subject\":ele[0],'room':ele[-1]}\n",
        "            else:priod={\"subject\":None}\n",
        "            day[i]=priod\n",
        "    output[row[0]] = day\n"
      ],
      "metadata": {
        "id": "2LgythUhIflw"
      },
      "id": "2LgythUhIflw",
      "execution_count": 100,
      "outputs": []
    },
    {
      "cell_type": "code",
      "source": [
        "import json\n",
        "#json_string = json.dumps(output).encode('utf8')\n",
        "out_file = open(\"output.json\", \"w\") \n",
        "json.dump(output, out_file, indent = 6,  ensure_ascii=False ) \n",
        "out_file.close() "
      ],
      "metadata": {
        "id": "Jc3nrBcaQcV8"
      },
      "id": "Jc3nrBcaQcV8",
      "execution_count": 108,
      "outputs": []
    }
  ],
  "metadata": {
    "kernelspec": {
      "display_name": "Python 3 (ipykernel)",
      "language": "python",
      "name": "python3"
    },
    "language_info": {
      "codemirror_mode": {
        "name": "ipython",
        "version": 3
      },
      "file_extension": ".py",
      "mimetype": "text/x-python",
      "name": "python",
      "nbconvert_exporter": "python",
      "pygments_lexer": "ipython3",
      "version": "3.9.12"
    },
    "colab": {
      "name": "3th.ipynb",
      "provenance": [],
      "collapsed_sections": []
    }
  },
  "nbformat": 4,
  "nbformat_minor": 5
}