{
  "cells": [
    {
      "cell_type": "markdown",
      "metadata": {
        "id": "view-in-github",
        "colab_type": "text"
      },
      "source": [
        "<a href=\"https://colab.research.google.com/github/Thanat-Music/table_to_dataframe/blob/main/3th.ipynb\" target=\"_parent\"><img src=\"https://colab.research.google.com/assets/colab-badge.svg\" alt=\"Open In Colab\"/></a>"
      ]
    },
    {
      "cell_type": "code",
      "source": [
        "from google.colab import drive\n",
        "drive.mount('/content/drive')"
      ],
      "metadata": {
        "id": "4h_EjtRk0zfY",
        "outputId": "92bfd1d7-2c62-41b7-9e34-b5f3695a82ec",
        "colab": {
          "base_uri": "https://localhost:8080/"
        }
      },
      "id": "4h_EjtRk0zfY",
      "execution_count": 5,
      "outputs": [
        {
          "output_type": "stream",
          "name": "stdout",
          "text": [
            "Mounted at /content/drive\n"
          ]
        }
      ]
    },
    {
      "cell_type": "code",
      "source": [
        "!sudo apt install tesseract-ocr-tha\n",
        "!pip install pytesseract"
      ],
      "metadata": {
        "id": "PGnT2wTBxh8I",
        "outputId": "b15b221e-8bce-4eb4-90d9-ba08ab140100",
        "colab": {
          "base_uri": "https://localhost:8080/"
        }
      },
      "id": "PGnT2wTBxh8I",
      "execution_count": 2,
      "outputs": [
        {
          "output_type": "stream",
          "name": "stdout",
          "text": [
            "Reading package lists... Done\n",
            "Building dependency tree       \n",
            "Reading state information... Done\n",
            "tesseract-ocr-tha is already the newest version (4.00~git24-0e00fe6-1.2).\n",
            "The following packages were automatically installed and are no longer required:\n",
            "  libnvidia-common-460 nsight-compute-2020.2.0\n",
            "Use 'sudo apt autoremove' to remove them.\n",
            "0 upgraded, 0 newly installed, 0 to remove and 42 not upgraded.\n",
            "Requirement already satisfied: pytesseract in /usr/local/lib/python3.7/dist-packages (0.3.9)\n",
            "Requirement already satisfied: packaging>=21.3 in /usr/local/lib/python3.7/dist-packages (from pytesseract) (21.3)\n",
            "Requirement already satisfied: Pillow>=8.0.0 in /usr/local/lib/python3.7/dist-packages (from pytesseract) (9.1.0)\n",
            "Requirement already satisfied: pyparsing!=3.0.5,>=2.0.2 in /usr/local/lib/python3.7/dist-packages (from packaging>=21.3->pytesseract) (3.0.8)\n"
          ]
        }
      ]
    },
    {
      "cell_type": "code",
      "execution_count": 22,
      "id": "a72b3045",
      "metadata": {
        "id": "a72b3045"
      },
      "outputs": [],
      "source": [
        "import cv2\n",
        "import numpy as np\n",
        "import pytesseract\n",
        "from PIL import ImageFont, ImageDraw,Image\n",
        "from google.colab.patches import cv2_imshow"
      ]
    },
    {
      "cell_type": "code",
      "execution_count": 33,
      "id": "84b4f02e",
      "metadata": {
        "scrolled": true,
        "id": "84b4f02e",
        "outputId": "60ff0b5a-04f9-423f-d30d-aa8d81d403c4",
        "colab": {
          "base_uri": "https://localhost:8080/"
        }
      },
      "outputs": [
        {
          "output_type": "stream",
          "name": "stdout",
          "text": [
            "number of contours in condition is : 50\n"
          ]
        },
        {
          "output_type": "stream",
          "name": "stderr",
          "text": [
            "/usr/local/lib/python3.7/dist-packages/numpy/lib/function_base.py:232: VisibleDeprecationWarning: Creating an ndarray from ragged nested sequences (which is a list-or-tuple of lists-or-tuples-or ndarrays with different lengths or shapes) is deprecated. If you meant to do this, you must specify 'dtype=object' when creating the ndarray.\n",
            "  m = asarray(m)\n",
            "/usr/local/lib/python3.7/dist-packages/ipykernel_launcher.py:73: VisibleDeprecationWarning: Creating an ndarray from ragged nested sequences (which is a list-or-tuple of lists-or-tuples-or ndarrays with different lengths or shapes) is deprecated. If you meant to do this, you must specify 'dtype=object' when creating the ndarray.\n"
          ]
        }
      ],
      "source": [
        "def box_cut(values):\n",
        "    row_img=[]\n",
        "    dtype = [('x', int), ('y', int), ('w', int), ('h', int)]\n",
        "    box_array = np.array(values, dtype = dtype)\n",
        "    sort_box_array = np.sort(box_array, order = 'x')\n",
        "    for position in sort_box_array:\n",
        "        x, y, w, h = position\n",
        "        cv2.rectangle(img, (x, y), (x+w, y+h), (0, 0, 255), 2)\n",
        "        \n",
        "        #cv2_imshow(img)\n",
        "        bg_img = np.zeros((img.shape[0], img.shape[1]))\n",
        "        bg_img[y:y+h, x:x+w] = 1\n",
        "        img_cut = img_copy[y:y+h, x:x+w,:]\n",
        "\n",
        "        #cv2_imshow(img_cut)\n",
        "        row_img.append(img_cut)\n",
        "        #cv2.waitKey(1000)\n",
        "\n",
        "    return row_img\n",
        "\n",
        "pos_con = []\n",
        "bitw_img = []\n",
        "\n",
        "keep_day=[[],[],[],[],[]]\n",
        "\n",
        "keep_box=[[],[],[],[],[]]\n",
        "\n",
        "\n",
        "#read an image\n",
        "img = cv2.imread(\"/content/drive/MyDrive/image_project/table1.jpg\")\n",
        "\n",
        "#resize image(optional)\n",
        "\"\"\"scale_percent = 100\n",
        "width = int(img.shape[1] * scale_percent / 100)\n",
        "hight = int(img.shape[0] * scale_percent / 100)\n",
        "dim = (width, hight)\n",
        "img = cv2.resize(img, dim, interpolation = cv2.INTER_AREA)\"\"\"\n",
        "\n",
        "img_copy = img.copy()\n",
        "gray_img = cv2.cvtColor(img, cv2.COLOR_BGR2GRAY)\n",
        "threshold_img = cv2.adaptiveThreshold(gray_img, 255,\n",
        "                                      cv2.ADAPTIVE_THRESH_MEAN_C, cv2.THRESH_BINARY_INV,29,0)\n",
        "dilation = cv2.dilate(threshold_img, (2, 2), 10)\n",
        "contours, hierarchy = cv2.findContours(dilation, cv2.RETR_LIST, cv2.CHAIN_APPROX_NONE)\n",
        "contours = np.flip(contours, 0)\n",
        "count = 0\n",
        "\n",
        "if (len(contours) > 0):\n",
        "    for i, con in enumerate(contours):\n",
        "        areas_con = cv2.contourArea(con)\n",
        "        x, y, w, h = cv2.boundingRect(con)\n",
        "        if (areas_con < 19000 and areas_con > 4000):\n",
        "                #print(\"index : {0} ==> area_con = {1}\".format(i, areas_con))\n",
        "                if (y>68) and (y<156):\n",
        "                    keep_day[0].append(x)\n",
        "                    keep_box[0].append((x, y, w, h))\n",
        "                elif (y>156) and (y<244):\n",
        "                    keep_day[1].append(x)\n",
        "                    keep_box[1].append((x, y, w, h))\n",
        "                elif (y>244) and (y<332):\n",
        "                    keep_day[2].append(x)\n",
        "                    keep_box[2].append((x, y, w, h))\n",
        "                elif (y>332) and (y<420):\n",
        "                    keep_day[3].append(x)\n",
        "                    keep_box[3].append((x, y, w, h))\n",
        "                elif (y>420) and (y<508):\n",
        "                    keep_day[4].append(x)\n",
        "                    keep_box[4].append((x, y, w, h))\n",
        "                count += 1\n",
        "\n",
        "    for row_day in keep_box:\n",
        "          pos_con.append(box_cut(row_day))\n",
        "    img_append = np.array(pos_con)\n",
        "\n",
        "print(\"number of contours in condition is : {}\".format(count))\n",
        "cv2.waitKey(0)\n",
        "cv2.destroyAllWindows()\n"
      ]
    },
    {
      "cell_type": "code",
      "source": [
        "np.append(pos_con, box_cut(keep_box[0]), axis=0)"
      ],
      "metadata": {
        "id": "8UDdCd750mef"
      },
      "id": "8UDdCd750mef",
      "execution_count": null,
      "outputs": []
    },
    {
      "cell_type": "code",
      "source": [
        "box_cut(keep_box[0])"
      ],
      "metadata": {
        "id": "L2K6l7nIMwsa"
      },
      "id": "L2K6l7nIMwsa",
      "execution_count": null,
      "outputs": []
    },
    {
      "cell_type": "code",
      "source": [
        "img_append[0][0].shape[1]"
      ],
      "metadata": {
        "colab": {
          "base_uri": "https://localhost:8080/"
        },
        "id": "AKGK8MwM2FRT",
        "outputId": "72ca85c7-0317-4b57-d60b-666913ae9f9e"
      },
      "id": "AKGK8MwM2FRT",
      "execution_count": 46,
      "outputs": [
        {
          "output_type": "execute_result",
          "data": {
            "text/plain": [
              "94"
            ]
          },
          "metadata": {},
          "execution_count": 46
        }
      ]
    },
    {
      "cell_type": "code",
      "source": [
        "\n",
        "for img in img_append[4]:\n",
        "    print(img.shape[1])"
      ],
      "metadata": {
        "colab": {
          "base_uri": "https://localhost:8080/"
        },
        "id": "It7vv7VgJx1C",
        "outputId": "70abe040-856d-4b2b-9e1b-25c274ec5e63"
      },
      "id": "It7vv7VgJx1C",
      "execution_count": 55,
      "outputs": [
        {
          "output_type": "stream",
          "name": "stdout",
          "text": [
            "94\n",
            "98\n",
            "100\n",
            "100\n",
            "100\n",
            "98\n",
            "99\n",
            "196\n",
            "99\n"
          ]
        }
      ]
    },
    {
      "cell_type": "code",
      "execution_count": null,
      "id": "ab71b7de",
      "metadata": {
        "id": "ab71b7de"
      },
      "outputs": [],
      "source": [
        "def extract(image):\n",
        "    #closing\n",
        "    kernel = np.ones((2,2),np.uint8)\n",
        "    closing = cv2.morphologyEx(image, cv2.MORPH_CLOSE, kernel)\n",
        "    # Apply OCR on the image\n",
        "    costom_config=r'--oem 3 --psm '+str(6)\n",
        "    text = pytesseract.image_to_string(closing, lang='tha', config= costom_config)\n",
        "    return str(text)\n",
        "\n",
        "# Mention the installed location of Tesseract-OCR in your system\n",
        "pytesseract.pytesseract.tesseract_cmd = ( r'/usr/bin/tesseract' )\n",
        "table=np.empty((0,12),dtype=\"<U8\")\n",
        "for j,row in enumerate(img_append):\n",
        "    print(j)\n",
        "    row_=np.empty(12,dtype=\"<U8\")\n",
        "    i = 0\n",
        "    for img in row:\n",
        "        text=extract(img)\n",
        "        row_[i]=text\n",
        "        i += 1\n",
        "        if img.shape[1]>110: \n",
        "            row_[i]=text\n",
        "            i += 1\n",
        "    table = np.append(table, [row_], axis=0)\n",
        "    print(j,'finish')\n"
      ]
    },
    {
      "cell_type": "code",
      "source": [
        "table"
      ],
      "metadata": {
        "colab": {
          "base_uri": "https://localhost:8080/"
        },
        "id": "2LgythUhIflw",
        "outputId": "f7db37f7-6f4e-43f6-fc54-23077bf6cff3"
      },
      "id": "2LgythUhIflw",
      "execution_count": 71,
      "outputs": [
        {
          "output_type": "execute_result",
          "data": {
            "text/plain": [
              "array([['จันทร์\\n\\x0c', '|   อ312', 'สุขพละ4/', ': ว31213', ': ว31213',\n",
              "        '\\x0c', 'อ31215 ส', '|     อ3', 'ว301116\\n', '| ค30291',\n",
              "        'ล:\\n\\x0c', '\\x0c'],\n",
              "       ['อังตาร\\n\\x0c', 'ค31203\\n|', ' ค31105\\n', 'ว31243\\nท',\n",
              "        'ว31243\\nท', 'พัก\\n\\x0c', '|    ว30', 'โล\\nวรณิน', 'โล\\nวรณิน',\n",
              "        'ว30282 ส', 'ว30282 ส', '\\x0c'],\n",
              "       ['๓\\n\\x0c', ', ค31105', 'แนะแนว -', '|       ', '|       ',\n",
              "        '|       ', 'ส31 101\\n', '| ท31101', 'ค31203\\nว', 'อ30217  ',\n",
              "        'อ30217  ', '\\x0c'],\n",
              "       ['พฤหัสบดี', ', ค31203', '| ห31101', '|  ศิลปะ', '|     ส3',\n",
              "        '๒\\n\\x0c', 'อ31101\\n ', '130201\\nค', '    ชุมบ', 'ว30281 4',\n",
              "        'ว30281 4', '\\x0c'],\n",
              "       ['ศุกร์\\n\\x0c', 'ว301117\\n', '. ค31105', 'ว301118\\n', 'ปทท่อททก',\n",
              "        'พัก\\n\\x0c', ') คุณธรร', '|\\nการงาน', '|\\nการงาน', 'โ\\n\\x0c', '',\n",
              "        '']], dtype='<U8')"
            ]
          },
          "metadata": {},
          "execution_count": 71
        }
      ]
    },
    {
      "cell_type": "code",
      "source": [
        "for i in range(4,14):\n",
        "    print(i)\n",
        "    #try:\n",
        "    # A text file is created and flushed\n",
        "    try:\n",
        "      file = open(f\"output{str(i)}.txt\", \"x\")\n",
        "    except:\n",
        "      file = open(f\"output{str(i)}.txt\", \"w\")\n",
        "    file.write(\"\")\n",
        "    file.close()\n",
        "    for img in img_append:\n",
        "\n",
        "        # Mention the installed location of Tesseract-OCR in your system\n",
        "        pytesseract.pytesseract.tesseract_cmd = ( r'/usr/bin/tesseract' )\n",
        "        # Preprocessing the image starts\n",
        "\n",
        "        # Convert the image to gray scale\n",
        "        gray = cv2.cvtColor(img, cv2.COLOR_BGR2GRAY)\n",
        "\n",
        "        # Performing OTSU threshold\n",
        "        ret, thresh1 = cv2.threshold(gray, 0, 255, cv2.THRESH_OTSU | cv2.THRESH_BINARY)\n",
        "        \n",
        "        #closing\n",
        "        kernel = np.ones((2,2),np.uint8)\n",
        "        closing = cv2.morphologyEx(img, cv2.MORPH_CLOSE, kernel)\n",
        "        \n",
        "        file = open(f\"output{str(i)}.txt\", \"a\", encoding=\"utf-8\")\n",
        "\n",
        "        # Apply OCR on the image\n",
        "        costom_config=r'--oem 3 --psm '+str(i)\n",
        "        text = pytesseract.image_to_string(thresh1, lang='tha', config= costom_config)\n",
        "\n",
        "        # Appending the text into file\n",
        "        file.write(text)\n",
        "        file.write(\"\\n____________________\\n\")\n",
        "        # Close the file\n",
        "        file.close\n",
        "    #except:\n",
        "            #print('unsucessful')"
      ],
      "metadata": {
        "colab": {
          "base_uri": "https://localhost:8080/"
        },
        "id": "p7gc7zc0oAS-",
        "outputId": "f14b5edd-a023-42f8-f7cc-a4b4fae59eb0"
      },
      "id": "p7gc7zc0oAS-",
      "execution_count": 9,
      "outputs": [
        {
          "output_type": "stream",
          "name": "stdout",
          "text": [
            "4\n",
            "5\n",
            "6\n",
            "7\n",
            "8\n",
            "9\n",
            "10\n",
            "11\n",
            "12\n",
            "13\n"
          ]
        }
      ]
    },
    {
      "cell_type": "code",
      "source": [
        "thresh1"
      ],
      "metadata": {
        "colab": {
          "base_uri": "https://localhost:8080/"
        },
        "id": "WajVOMTuqRno",
        "outputId": "6f8b0991-e0da-41b0-d410-0af3320c9733"
      },
      "id": "WajVOMTuqRno",
      "execution_count": 19,
      "outputs": [
        {
          "output_type": "execute_result",
          "data": {
            "text/plain": [
              "array([[255, 255, 255, ..., 255,   0,   0],\n",
              "       [255, 255, 255, ..., 255, 255,   0],\n",
              "       [255, 255, 255, ..., 255, 255,   0],\n",
              "       ...,\n",
              "       [255, 255, 255, ..., 255, 255, 255],\n",
              "       [255, 255, 255, ..., 255, 255, 255],\n",
              "       [  0,   0,   0, ..., 255, 255, 255]], dtype=uint8)"
            ]
          },
          "metadata": {},
          "execution_count": 19
        }
      ]
    }
  ],
  "metadata": {
    "kernelspec": {
      "display_name": "Python 3 (ipykernel)",
      "language": "python",
      "name": "python3"
    },
    "language_info": {
      "codemirror_mode": {
        "name": "ipython",
        "version": 3
      },
      "file_extension": ".py",
      "mimetype": "text/x-python",
      "name": "python",
      "nbconvert_exporter": "python",
      "pygments_lexer": "ipython3",
      "version": "3.9.12"
    },
    "colab": {
      "name": "3th.ipynb",
      "provenance": [],
      "collapsed_sections": [],
      "include_colab_link": true
    }
  },
  "nbformat": 4,
  "nbformat_minor": 5
}