{
 "cells": [
  {
   "cell_type": "code",
   "execution_count": 2,
   "id": "fef14978",
   "metadata": {},
   "outputs": [],
   "source": [
    "import cv2\n",
    "import numpy as np\n",
    "import PIL\n",
    "import pytesseract"
   ]
  },
  {
   "cell_type": "code",
   "execution_count": 19,
   "id": "a0cb3661",
   "metadata": {},
   "outputs": [
    {
     "name": "stdout",
     "output_type": "stream",
     "text": [
      "65\n",
      "[307, 309, 310, 313, 314, 319, 324, 325, 332, 333, 338, 702, 703, 704, 707, 708, 713, 719, 720, 730, 1153, 1154, 1155, 1156, 1163, 1164, 1168, 1175, 1183, 1526, 1527, 1528, 1531, 1533, 1543, 1544, 1548, 1555, 1924, 1925, 1926, 1929, 1930, 1931, 1935, 1936, 1937, 1940, 2288, 2289, 2294, 2295, 2304, 2305, 2308, 2309, 2312, 2414, 2418, 2422, 2427, 2428, 2432, 2441, 2442]\n",
      "47\n",
      "[135, 137, 138, 139, 140, 143, 146, 148, 149, 150, 314, 315, 316, 318, 319, 321, 323, 324, 325, 496, 499, 500, 501, 502, 505, 506, 508, 509, 621, 622, 625, 626, 627, 629, 630, 631, 634, 781, 782, 783, 785, 787, 788, 789, 790, 791, 793]\n",
      "55\n",
      "[49, 50, 51, 52, 53, 54, 58, 59, 61, 62, 68, 71, 128, 129, 131, 132, 134, 135, 137, 138, 140, 141, 148, 151, 221, 223, 224, 225, 226, 227, 228, 229, 230, 231, 233, 234, 290, 291, 294, 295, 296, 298, 299, 300, 301, 302, 374, 375, 377, 379, 381, 383, 384, 385, 387]\n"
     ]
    }
   ],
   "source": [
    "## reading image using opencv\n",
    "img0 = cv2.imread('table1.jpg')\n",
    "\n",
    "#converting image into gray scale image\n",
    "img = img0.copy()\n",
    "gray_img = cv2.cvtColor(img, cv2.COLOR_BGR2GRAY)\n",
    "'''scale_percent = 60 # percent of original size\n",
    "width = int(gray_img.shape[1] * scale_percent / 100)\n",
    "height = int(gray_img.shape[0] * scale_percent / 100)\n",
    "dim = (width, height)\n",
    "resized_image = cv2.resize(gray_img ,dim)'''\n",
    "# converting it to binary image by Thresholding\n",
    "\n",
    "# this step is require if you have colored image because if you skip this part\n",
    "\n",
    " # then tesseract won't able to detect text correctly and this will give incorrect result\n",
    "for j in range(3,6):\n",
    "    pos_con = []\n",
    "    list_index = []\n",
    "    #ret,threshold_img = cv2.threshold(gray_img, 254, 255, cv2.THRESH_OTSU)\n",
    "    ret,threshold_img = cv2.threshold(gray_img, 228, 255, cv2.THRESH_BINARY)\n",
    "    kernel = np.ones((j,j))\n",
    "    #erodesion = cv2.erode(threshold_img,kernel,iterations = 1)\n",
    "    gradient = cv2.morphologyEx(threshold_img, cv2.MORPH_GRADIENT, kernel)\n",
    "    #closing = cv2.morphologyEx(threshold_img, cv2.MORPH_CLOSE, kernel)\n",
    "    # display image\n",
    "    contours, hierarchy = cv2.findContours(gradient, cv2.RETR_LIST, cv2.CHAIN_APPROX_SIMPLE)\n",
    "\n",
    "    count = 0\n",
    "    for i, cnt in enumerate(contours):\n",
    "          areas_con = cv2.contourArea(cnt)\n",
    "          x, y, w, h = cv2.boundingRect(cnt)\n",
    "          pos_con.append((x, y, w, h))\n",
    "          if (areas_con < 19000 and areas_con > 4000) or (areas_con < 2900 and areas_con > 2000):\n",
    "                cv2.rectangle(img, (x, y), (x+w, y+h), (0, 255, 0), 2)\n",
    "                list_index.append(i)\n",
    "                count += 1\n",
    "    print(count)\n",
    "    print(list_index)\n",
    "    #cv2.imshow('gray_img', gray_img)\n",
    "    #cv2.imshow('gradient'+str(j), gradient)\n",
    "    cv2.imshow('threshold_img'+str(j), img)\n",
    "\n",
    "    # Maintain output window until user presses a key\n",
    "\n",
    "    cv2.waitKey(0)\n",
    "\n",
    "    # Destroying present windows on screen\n",
    "\n",
    "    cv2.destroyAllWindows()"
   ]
  },
  {
   "cell_type": "code",
   "execution_count": 24,
   "id": "966341f0",
   "metadata": {},
   "outputs": [
    {
     "data": {
      "text/plain": [
       "tuple"
      ]
     },
     "execution_count": 24,
     "metadata": {},
     "output_type": "execute_result"
    }
   ],
   "source": [
    "type(threshold_img)"
   ]
  },
  {
   "cell_type": "code",
   "execution_count": 71,
   "id": "f6dfbc46",
   "metadata": {},
   "outputs": [
    {
     "name": "stdout",
     "output_type": "stream",
     "text": [
      "[[1. 1.]\n",
      " [1. 1.]]\n"
     ]
    }
   ],
   "source": [
    "print(kernel)"
   ]
  },
  {
   "cell_type": "code",
   "execution_count": 52,
   "id": "7765d97e",
   "metadata": {},
   "outputs": [
    {
     "name": "stdout",
     "output_type": "stream",
     "text": [
      "[[1 1 1 ... 1 1 1]\n",
      " [1 1 1 ... 1 1 1]\n",
      " [0 0 1 ... 1 1 0]\n",
      " ...\n",
      " [1 1 1 ... 1 1 1]\n",
      " [1 1 1 ... 1 1 1]\n",
      " [1 1 1 ... 1 1 1]]\n"
     ]
    }
   ],
   "source": [
    "print(gradient-255)"
   ]
  }
 ],
 "metadata": {
  "kernelspec": {
   "display_name": "Python 3 (ipykernel)",
   "language": "python",
   "name": "python3"
  },
  "language_info": {
   "codemirror_mode": {
    "name": "ipython",
    "version": 3
   },
   "file_extension": ".py",
   "mimetype": "text/x-python",
   "name": "python",
   "nbconvert_exporter": "python",
   "pygments_lexer": "ipython3",
   "version": "3.9.12"
  }
 },
 "nbformat": 4,
 "nbformat_minor": 5
}
